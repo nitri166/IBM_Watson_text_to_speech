{
 "cells": [
  {
   "cell_type": "code",
   "execution_count": 8,
   "metadata": {},
   "outputs": [
    {
     "name": "stdout",
     "output_type": "stream",
     "text": [
      "Requirement already satisfied: ibm_watson in c:\\users\\meeth\\anaconda3\\lib\\site-packages (4.4.1)\n",
      "Requirement already satisfied: websocket-client==0.48.0 in c:\\users\\meeth\\anaconda3\\lib\\site-packages (from ibm_watson) (0.48.0)\n",
      "Requirement already satisfied: python-dateutil>=2.5.3 in c:\\users\\meeth\\anaconda3\\lib\\site-packages (from ibm_watson) (2.8.1)\n",
      "Requirement already satisfied: requests<3.0,>=2.0 in c:\\users\\meeth\\anaconda3\\lib\\site-packages (from ibm_watson) (2.22.0)\n",
      "Requirement already satisfied: ibm-cloud-sdk-core==1.5.1 in c:\\users\\meeth\\anaconda3\\lib\\site-packages (from ibm_watson) (1.5.1)\n",
      "Requirement already satisfied: six in c:\\users\\meeth\\anaconda3\\lib\\site-packages (from websocket-client==0.48.0->ibm_watson) (1.14.0)\n",
      "Requirement already satisfied: urllib3!=1.25.0,!=1.25.1,<1.26,>=1.21.1 in c:\\users\\meeth\\anaconda3\\lib\\site-packages (from requests<3.0,>=2.0->ibm_watson) (1.25.8)\n",
      "Requirement already satisfied: idna<2.9,>=2.5 in c:\\users\\meeth\\anaconda3\\lib\\site-packages (from requests<3.0,>=2.0->ibm_watson) (2.8)\n",
      "Requirement already satisfied: chardet<3.1.0,>=3.0.2 in c:\\users\\meeth\\anaconda3\\lib\\site-packages (from requests<3.0,>=2.0->ibm_watson) (3.0.4)\n",
      "Requirement already satisfied: certifi>=2017.4.17 in c:\\users\\meeth\\anaconda3\\lib\\site-packages (from requests<3.0,>=2.0->ibm_watson) (2019.11.28)\n",
      "Requirement already satisfied: PyJWT>=1.7.1 in c:\\users\\meeth\\anaconda3\\lib\\site-packages (from ibm-cloud-sdk-core==1.5.1->ibm_watson) (1.7.1)\n",
      "Note: you may need to restart the kernel to use updated packages.\n"
     ]
    }
   ],
   "source": [
    "pip install ibm_watson"
   ]
  },
  {
   "cell_type": "code",
   "execution_count": 9,
   "metadata": {},
   "outputs": [
    {
     "name": "stdout",
     "output_type": "stream",
     "text": [
      "Requirement already satisfied: ibm_cloud_sdk_core in c:\\users\\meeth\\anaconda3\\lib\\site-packages (1.5.1)\n",
      "Requirement already satisfied: python-dateutil>=2.5.3 in c:\\users\\meeth\\anaconda3\\lib\\site-packages (from ibm_cloud_sdk_core) (2.8.1)\n",
      "Requirement already satisfied: PyJWT>=1.7.1 in c:\\users\\meeth\\anaconda3\\lib\\site-packages (from ibm_cloud_sdk_core) (1.7.1)\n",
      "Requirement already satisfied: requests<3.0,>=2.0 in c:\\users\\meeth\\anaconda3\\lib\\site-packages (from ibm_cloud_sdk_core) (2.22.0)\n",
      "Requirement already satisfied: six>=1.5 in c:\\users\\meeth\\anaconda3\\lib\\site-packages (from python-dateutil>=2.5.3->ibm_cloud_sdk_core) (1.14.0)\n",
      "Requirement already satisfied: chardet<3.1.0,>=3.0.2 in c:\\users\\meeth\\anaconda3\\lib\\site-packages (from requests<3.0,>=2.0->ibm_cloud_sdk_core) (3.0.4)\n",
      "Requirement already satisfied: idna<2.9,>=2.5 in c:\\users\\meeth\\anaconda3\\lib\\site-packages (from requests<3.0,>=2.0->ibm_cloud_sdk_core) (2.8)\n",
      "Requirement already satisfied: certifi>=2017.4.17 in c:\\users\\meeth\\anaconda3\\lib\\site-packages (from requests<3.0,>=2.0->ibm_cloud_sdk_core) (2019.11.28)\n",
      "Requirement already satisfied: urllib3!=1.25.0,!=1.25.1,<1.26,>=1.21.1 in c:\\users\\meeth\\anaconda3\\lib\\site-packages (from requests<3.0,>=2.0->ibm_cloud_sdk_core) (1.25.8)\n",
      "Note: you may need to restart the kernel to use updated packages.\n"
     ]
    }
   ],
   "source": [
    "pip install ibm_cloud_sdk_core"
   ]
  },
  {
   "cell_type": "code",
   "execution_count": 10,
   "metadata": {},
   "outputs": [],
   "source": [
    "from ibm_watson import TextToSpeechV1"
   ]
  },
  {
   "cell_type": "code",
   "execution_count": 11,
   "metadata": {},
   "outputs": [],
   "source": [
    "from ibm_cloud_sdk_core.authenticators import IAMAuthenticator"
   ]
  },
  {
   "cell_type": "code",
   "execution_count": 2,
   "metadata": {},
   "outputs": [
    {
     "ename": "NameError",
     "evalue": "name 'IAMAuthenticator' is not defined",
     "output_type": "error",
     "traceback": [
      "\u001b[1;31m---------------------------------------------------------------------------\u001b[0m",
      "\u001b[1;31mNameError\u001b[0m                                 Traceback (most recent call last)",
      "\u001b[1;32m<ipython-input-2-132a3da1e64a>\u001b[0m in \u001b[0;36m<module>\u001b[1;34m\u001b[0m\n\u001b[1;32m----> 1\u001b[1;33m \u001b[0mapi\u001b[0m \u001b[1;33m=\u001b[0m \u001b[0mIAMAuthenticator\u001b[0m\u001b[1;33m(\u001b[0m\u001b[1;34m\"fFecipeSBRHCfLrQlVk7IGD7i0NiFULy1XdqVnUqSppD\"\u001b[0m\u001b[1;33m)\u001b[0m\u001b[1;33m\u001b[0m\u001b[1;33m\u001b[0m\u001b[0m\n\u001b[0m",
      "\u001b[1;31mNameError\u001b[0m: name 'IAMAuthenticator' is not defined"
     ]
    }
   ],
   "source": [
    "api = IAMAuthenticator(\"fFecipeSBRHCfLrQlVk7IGD7i0NiFULy1XdqVnUqSppD\")"
   ]
  },
  {
   "cell_type": "code",
   "execution_count": 13,
   "metadata": {},
   "outputs": [],
   "source": [
    "text_2_speech = TextToSpeechV1(authenticator=api)"
   ]
  },
  {
   "cell_type": "code",
   "execution_count": 22,
   "metadata": {},
   "outputs": [],
   "source": [
    "text_2_speech.set_service_url(\"https://api.us-south.text-to-speech.watson.cloud.ibm.com/instances/f238d2d6-95c3-4591-a7dc-c9ef6779d832\")"
   ]
  },
  {
   "cell_type": "code",
   "execution_count": 23,
   "metadata": {},
   "outputs": [
    {
     "name": "stderr",
     "output_type": "stream",
     "text": [
      "ERROR:root:Forbidden\n",
      "Traceback (most recent call last):\n",
      "  File \"C:\\Users\\meeth\\Anaconda3\\lib\\site-packages\\ibm_cloud_sdk_core\\base_service.py\", line 229, in send\n",
      "    response.status_code, error_message, http_response=response)\n",
      "ibm_cloud_sdk_core.api_exception.ApiException: Error: Forbidden, Code: 403\n"
     ]
    },
    {
     "ename": "ApiException",
     "evalue": "Error: Forbidden, Code: 403",
     "output_type": "error",
     "traceback": [
      "\u001b[1;31m---------------------------------------------------------------------------\u001b[0m",
      "\u001b[1;31mApiException\u001b[0m                              Traceback (most recent call last)",
      "\u001b[1;32m<ipython-input-23-7ac7abd54fb3>\u001b[0m in \u001b[0;36m<module>\u001b[1;34m\u001b[0m\n\u001b[0;32m      1\u001b[0m \u001b[1;32mwith\u001b[0m \u001b[0mopen\u001b[0m\u001b[1;33m(\u001b[0m\u001b[1;34m\"welcomnew.mp3\"\u001b[0m\u001b[1;33m,\u001b[0m\u001b[1;34m\"wb\"\u001b[0m\u001b[1;33m)\u001b[0m \u001b[1;32mas\u001b[0m \u001b[0maudiofile\u001b[0m\u001b[1;33m:\u001b[0m\u001b[1;33m\u001b[0m\u001b[1;33m\u001b[0m\u001b[0m\n\u001b[0;32m      2\u001b[0m     audiofile.write(\n\u001b[1;32m----> 3\u001b[1;33m     \u001b[0mtext_2_speech\u001b[0m\u001b[1;33m.\u001b[0m\u001b[0msynthesize\u001b[0m\u001b[1;33m(\u001b[0m\u001b[1;34m\"Hello Mayank, hope you are doing well.\"\u001b[0m\u001b[1;33m,\u001b[0m \u001b[0maccept\u001b[0m\u001b[1;33m=\u001b[0m\u001b[1;34m\"audio/mp3\"\u001b[0m\u001b[1;33m)\u001b[0m\u001b[1;33m.\u001b[0m\u001b[0mget_result\u001b[0m\u001b[1;33m(\u001b[0m\u001b[1;33m)\u001b[0m\u001b[1;33m.\u001b[0m\u001b[0mcontent\u001b[0m\u001b[1;33m\u001b[0m\u001b[1;33m\u001b[0m\u001b[0m\n\u001b[0m\u001b[0;32m      4\u001b[0m     )\n\u001b[0;32m      5\u001b[0m \u001b[1;33m\u001b[0m\u001b[0m\n",
      "\u001b[1;32m~\\Anaconda3\\lib\\site-packages\\ibm_watson\\text_to_speech_v1.py\u001b[0m in \u001b[0;36msynthesize\u001b[1;34m(self, text, accept, voice, customization_id, **kwargs)\u001b[0m\n\u001b[0;32m    267\u001b[0m                                        data=data)\n\u001b[0;32m    268\u001b[0m \u001b[1;33m\u001b[0m\u001b[0m\n\u001b[1;32m--> 269\u001b[1;33m         \u001b[0mresponse\u001b[0m \u001b[1;33m=\u001b[0m \u001b[0mself\u001b[0m\u001b[1;33m.\u001b[0m\u001b[0msend\u001b[0m\u001b[1;33m(\u001b[0m\u001b[0mrequest\u001b[0m\u001b[1;33m)\u001b[0m\u001b[1;33m\u001b[0m\u001b[1;33m\u001b[0m\u001b[0m\n\u001b[0m\u001b[0;32m    270\u001b[0m         \u001b[1;32mreturn\u001b[0m \u001b[0mresponse\u001b[0m\u001b[1;33m\u001b[0m\u001b[1;33m\u001b[0m\u001b[0m\n\u001b[0;32m    271\u001b[0m \u001b[1;33m\u001b[0m\u001b[0m\n",
      "\u001b[1;32m~\\Anaconda3\\lib\\site-packages\\ibm_cloud_sdk_core\\base_service.py\u001b[0m in \u001b[0;36msend\u001b[1;34m(self, request, **kwargs)\u001b[0m\n\u001b[0;32m    227\u001b[0m                                 \u001b[1;34m'invalid credentials'\u001b[0m\u001b[1;33m\u001b[0m\u001b[1;33m\u001b[0m\u001b[0m\n\u001b[0;32m    228\u001b[0m             raise ApiException(\n\u001b[1;32m--> 229\u001b[1;33m                 response.status_code, error_message, http_response=response)\n\u001b[0m\u001b[0;32m    230\u001b[0m         \u001b[1;32mexcept\u001b[0m \u001b[0mrequests\u001b[0m\u001b[1;33m.\u001b[0m\u001b[0mexceptions\u001b[0m\u001b[1;33m.\u001b[0m\u001b[0mSSLError\u001b[0m\u001b[1;33m:\u001b[0m\u001b[1;33m\u001b[0m\u001b[1;33m\u001b[0m\u001b[0m\n\u001b[0;32m    231\u001b[0m             \u001b[0mlogging\u001b[0m\u001b[1;33m.\u001b[0m\u001b[0mexception\u001b[0m\u001b[1;33m(\u001b[0m\u001b[0mself\u001b[0m\u001b[1;33m.\u001b[0m\u001b[0mERROR_MSG_DISABLE_SSL\u001b[0m\u001b[1;33m)\u001b[0m\u001b[1;33m\u001b[0m\u001b[1;33m\u001b[0m\u001b[0m\n",
      "\u001b[1;31mApiException\u001b[0m: Error: Forbidden, Code: 403"
     ]
    }
   ],
   "source": [
    "with open(\"welcomnew.mp3\",\"wb\") as audiofile:\n",
    "    audiofile.write(\n",
    "    text_2_speech.synthesize(\"Hello Mayank, hope you are doing well.\", accept=\"audio/mp3\").get_result().content\n",
    "    )\n",
    "    "
   ]
  },
  {
   "cell_type": "code",
   "execution_count": null,
   "metadata": {},
   "outputs": [],
   "source": []
  }
 ],
 "metadata": {
  "kernelspec": {
   "display_name": "Python 3",
   "language": "python",
   "name": "python3"
  },
  "language_info": {
   "codemirror_mode": {
    "name": "ipython",
    "version": 3
   },
   "file_extension": ".py",
   "mimetype": "text/x-python",
   "name": "python",
   "nbconvert_exporter": "python",
   "pygments_lexer": "ipython3",
   "version": "3.7.6"
  }
 },
 "nbformat": 4,
 "nbformat_minor": 4
}
